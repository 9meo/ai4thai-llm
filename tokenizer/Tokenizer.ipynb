{
 "cells": [
  {
   "cell_type": "code",
   "execution_count": 1,
   "id": "60c7c71f-c480-4f6b-a8e1-927551029353",
   "metadata": {},
   "outputs": [],
   "source": [
    "from transformers import AutoTokenizer"
   ]
  },
  {
   "cell_type": "code",
   "execution_count": 2,
   "id": "c4350a51-0dd9-483c-a009-9b09fe931a51",
   "metadata": {},
   "outputs": [
    {
     "data": {
      "application/vnd.jupyter.widget-view+json": {
       "model_id": "c75fce8481b84fa583649f469eb5ebf1",
       "version_major": 2,
       "version_minor": 0
      },
      "text/plain": [
       "tokenizer_config.json:   0%|          | 0.00/48.0 [00:00<?, ?B/s]"
      ]
     },
     "metadata": {},
     "output_type": "display_data"
    },
    {
     "data": {
      "application/vnd.jupyter.widget-view+json": {
       "model_id": "e9970b2b1ba642d88d228b359703b58a",
       "version_major": 2,
       "version_minor": 0
      },
      "text/plain": [
       "config.json:   0%|          | 0.00/570 [00:00<?, ?B/s]"
      ]
     },
     "metadata": {},
     "output_type": "display_data"
    },
    {
     "data": {
      "application/vnd.jupyter.widget-view+json": {
       "model_id": "5624abfd95584d3c8d834be6d6e53d76",
       "version_major": 2,
       "version_minor": 0
      },
      "text/plain": [
       "vocab.txt:   0%|          | 0.00/232k [00:00<?, ?B/s]"
      ]
     },
     "metadata": {},
     "output_type": "display_data"
    },
    {
     "data": {
      "application/vnd.jupyter.widget-view+json": {
       "model_id": "a8670ede172744d8ae11f0df8fa538e9",
       "version_major": 2,
       "version_minor": 0
      },
      "text/plain": [
       "tokenizer.json:   0%|          | 0.00/466k [00:00<?, ?B/s]"
      ]
     },
     "metadata": {},
     "output_type": "display_data"
    }
   ],
   "source": [
    "bert = AutoTokenizer.from_pretrained('bert-base-uncased')"
   ]
  },
  {
   "cell_type": "code",
   "execution_count": 3,
   "id": "3575f175-89f5-4728-a7e0-11886b25f14a",
   "metadata": {},
   "outputs": [],
   "source": [
    "sentence = \"The quick brown fox jumps over the lazy dog.\""
   ]
  },
  {
   "cell_type": "code",
   "execution_count": 6,
   "id": "a80d7663-f1e4-4c22-99e7-a0a5434f8353",
   "metadata": {},
   "outputs": [
    {
     "data": {
      "text/plain": [
       "[101, 1996, 4248, 2829, 4419, 14523, 2058, 1996, 13971, 3899, 1012, 102]"
      ]
     },
     "execution_count": 6,
     "metadata": {},
     "output_type": "execute_result"
    }
   ],
   "source": [
    "enc = bert.encode(sentence)\n",
    "enc"
   ]
  },
  {
   "cell_type": "code",
   "execution_count": 8,
   "id": "e88c0fd0-7ab1-4da1-b16a-49d4e68fb23a",
   "metadata": {},
   "outputs": [
    {
     "data": {
      "text/plain": [
       "['[CLS]',\n",
       " 'the',\n",
       " 'quick',\n",
       " 'brown',\n",
       " 'fox',\n",
       " 'jumps',\n",
       " 'over',\n",
       " 'the',\n",
       " 'lazy',\n",
       " 'dog',\n",
       " '.',\n",
       " '[SEP]']"
      ]
     },
     "execution_count": 8,
     "metadata": {},
     "output_type": "execute_result"
    }
   ],
   "source": [
    "[bert.decode(e)  for e in enc]"
   ]
  },
  {
   "cell_type": "code",
   "execution_count": 7,
   "id": "9e5e1f88-3337-49cb-a847-0c9b5a0261df",
   "metadata": {},
   "outputs": [
    {
     "data": {
      "text/plain": [
       "'[CLS] the quick brown fox jumps over the lazy dog. [SEP]'"
      ]
     },
     "execution_count": 7,
     "metadata": {},
     "output_type": "execute_result"
    }
   ],
   "source": [
    "bert.decode(enc)"
   ]
  },
  {
   "cell_type": "code",
   "execution_count": 9,
   "id": "ca4fc100-7914-440f-a5a9-9148900c45b1",
   "metadata": {},
   "outputs": [
    {
     "data": {
      "application/vnd.jupyter.widget-view+json": {
       "model_id": "42e941bb236a43f18b9ec27e370a96d5",
       "version_major": 2,
       "version_minor": 0
      },
      "text/plain": [
       "tokenizer_config.json:   0%|          | 0.00/25.0 [00:00<?, ?B/s]"
      ]
     },
     "metadata": {},
     "output_type": "display_data"
    },
    {
     "data": {
      "application/vnd.jupyter.widget-view+json": {
       "model_id": "a0d5768c48314e54bcbe6cc73d0d7749",
       "version_major": 2,
       "version_minor": 0
      },
      "text/plain": [
       "config.json:   0%|          | 0.00/481 [00:00<?, ?B/s]"
      ]
     },
     "metadata": {},
     "output_type": "display_data"
    },
    {
     "data": {
      "application/vnd.jupyter.widget-view+json": {
       "model_id": "932db367f48548f888883970c88602c5",
       "version_major": 2,
       "version_minor": 0
      },
      "text/plain": [
       "vocab.json:   0%|          | 0.00/899k [00:00<?, ?B/s]"
      ]
     },
     "metadata": {},
     "output_type": "display_data"
    },
    {
     "data": {
      "application/vnd.jupyter.widget-view+json": {
       "model_id": "1511b900149449faa37bd74ad35ffeac",
       "version_major": 2,
       "version_minor": 0
      },
      "text/plain": [
       "merges.txt:   0%|          | 0.00/456k [00:00<?, ?B/s]"
      ]
     },
     "metadata": {},
     "output_type": "display_data"
    },
    {
     "data": {
      "application/vnd.jupyter.widget-view+json": {
       "model_id": "e60b75a348ce4a87890a8f22eef4b6fe",
       "version_major": 2,
       "version_minor": 0
      },
      "text/plain": [
       "tokenizer.json:   0%|          | 0.00/1.36M [00:00<?, ?B/s]"
      ]
     },
     "metadata": {},
     "output_type": "display_data"
    }
   ],
   "source": [
    "roberta  = AutoTokenizer.from_pretrained('FacebookAI/roberta-base')"
   ]
  },
  {
   "cell_type": "code",
   "execution_count": 10,
   "id": "ab8354bc-b805-4be1-b024-139915bc4001",
   "metadata": {},
   "outputs": [
    {
     "data": {
      "text/plain": [
       "[0, 133, 2119, 6219, 23602, 13855, 81, 5, 22414, 2335, 4, 2]"
      ]
     },
     "execution_count": 10,
     "metadata": {},
     "output_type": "execute_result"
    }
   ],
   "source": [
    "enc = roberta.encode(sentence)\n",
    "enc"
   ]
  },
  {
   "cell_type": "code",
   "execution_count": 11,
   "id": "6016fdb7-84d0-4d02-9f4a-eff5a58a5cd9",
   "metadata": {},
   "outputs": [
    {
     "data": {
      "text/plain": [
       "['<s>',\n",
       " 'The',\n",
       " ' quick',\n",
       " ' brown',\n",
       " ' fox',\n",
       " ' jumps',\n",
       " ' over',\n",
       " ' the',\n",
       " ' lazy',\n",
       " ' dog',\n",
       " '.',\n",
       " '</s>']"
      ]
     },
     "execution_count": 11,
     "metadata": {},
     "output_type": "execute_result"
    }
   ],
   "source": [
    "[roberta.decode(e)  for e in enc]"
   ]
  },
  {
   "cell_type": "code",
   "execution_count": 12,
   "id": "3206db63-ceef-48fe-8bd0-3ba392ba5b46",
   "metadata": {},
   "outputs": [],
   "source": [
    "t5 = AutoTokenizer.from_pretrained('google-t5/t5-base')"
   ]
  },
  {
   "cell_type": "code",
   "execution_count": 14,
   "id": "8194727d-4e3c-48e0-b7d6-5be2b39066a9",
   "metadata": {},
   "outputs": [
    {
     "data": {
      "text/plain": [
       "[37, 1704, 4216, 3, 20400, 4418, 7, 147, 8, 19743, 1782, 5, 1]"
      ]
     },
     "execution_count": 14,
     "metadata": {},
     "output_type": "execute_result"
    }
   ],
   "source": [
    "enc = t5.encode(sentence)\n",
    "enc"
   ]
  },
  {
   "cell_type": "code",
   "execution_count": 15,
   "id": "23e927d6-79fd-4fc1-8b2d-3491914135a9",
   "metadata": {},
   "outputs": [
    {
     "data": {
      "text/plain": [
       "['The',\n",
       " 'quick',\n",
       " 'brown',\n",
       " '',\n",
       " 'fox',\n",
       " 'jump',\n",
       " 's',\n",
       " 'over',\n",
       " 'the',\n",
       " 'lazy',\n",
       " 'dog',\n",
       " '.',\n",
       " '</s>']"
      ]
     },
     "execution_count": 15,
     "metadata": {},
     "output_type": "execute_result"
    }
   ],
   "source": [
    "[t5.decode(e)  for e in enc]"
   ]
  },
  {
   "cell_type": "code",
   "execution_count": 16,
   "id": "9a464b15-2a9f-4a7e-bfd1-409415b59637",
   "metadata": {},
   "outputs": [],
   "source": [
    "sentence = 'My name is Sarawoot and I live in Pathumthani'"
   ]
  },
  {
   "cell_type": "code",
   "execution_count": 18,
   "id": "725828d4-2e6e-4e14-ac3f-1d4852c59fb5",
   "metadata": {},
   "outputs": [
    {
     "data": {
      "text/plain": [
       "['[CLS]',\n",
       " 'my',\n",
       " 'name',\n",
       " 'is',\n",
       " 'sara',\n",
       " '##wo',\n",
       " '##ot',\n",
       " 'and',\n",
       " 'i',\n",
       " 'live',\n",
       " 'in',\n",
       " 'path',\n",
       " '##um',\n",
       " '##than',\n",
       " '##i',\n",
       " '[SEP]']"
      ]
     },
     "execution_count": 18,
     "metadata": {},
     "output_type": "execute_result"
    }
   ],
   "source": [
    "[bert.decode(e)  for e in bert.encode(sentence)]"
   ]
  },
  {
   "cell_type": "code",
   "execution_count": 19,
   "id": "08d88e1c-cb8a-4a34-83a1-9dfe31c1746e",
   "metadata": {},
   "outputs": [
    {
     "data": {
      "text/plain": [
       "['<s>',\n",
       " 'My',\n",
       " ' name',\n",
       " ' is',\n",
       " ' Sar',\n",
       " 'aw',\n",
       " 'oot',\n",
       " ' and',\n",
       " ' I',\n",
       " ' live',\n",
       " ' in',\n",
       " ' Path',\n",
       " 'um',\n",
       " 'th',\n",
       " 'ani',\n",
       " '</s>']"
      ]
     },
     "execution_count": 19,
     "metadata": {},
     "output_type": "execute_result"
    }
   ],
   "source": [
    "[roberta.decode(e)  for e in roberta.encode(sentence)]"
   ]
  },
  {
   "cell_type": "code",
   "execution_count": 17,
   "id": "f8ccd93d-40ca-4230-938e-5fb1e0296abb",
   "metadata": {},
   "outputs": [
    {
     "data": {
      "text/plain": [
       "['My',\n",
       " 'name',\n",
       " 'is',\n",
       " 'Sara',\n",
       " 'woo',\n",
       " 't',\n",
       " 'and',\n",
       " 'I',\n",
       " 'live',\n",
       " 'in',\n",
       " 'Path',\n",
       " 'um',\n",
       " 'than',\n",
       " 'i',\n",
       " '</s>']"
      ]
     },
     "execution_count": 17,
     "metadata": {},
     "output_type": "execute_result"
    }
   ],
   "source": [
    "[t5.decode(e)  for e in t5.encode(sentence)]"
   ]
  },
  {
   "cell_type": "code",
   "execution_count": 20,
   "id": "b92b0a66-d6ca-4299-9943-51dbef01e4a6",
   "metadata": {},
   "outputs": [
    {
     "data": {
      "text/plain": [
       "(30522, 50265, 32100)"
      ]
     },
     "execution_count": 20,
     "metadata": {},
     "output_type": "execute_result"
    }
   ],
   "source": [
    "bert.vocab_size, roberta.vocab_size, t5.vocab_size"
   ]
  },
  {
   "cell_type": "code",
   "execution_count": 21,
   "id": "1042bb91-d590-4e74-bee8-0159e23cbd14",
   "metadata": {},
   "outputs": [],
   "source": [
    "sentence = 'ชื่อของฉันคือศราวุธ และฉันอาศัยอยู่ในปทุมธานี'"
   ]
  },
  {
   "cell_type": "code",
   "execution_count": 22,
   "id": "28a6e5a2-0057-4b16-b07b-df0acbeca221",
   "metadata": {},
   "outputs": [
    {
     "data": {
      "text/plain": [
       "['[CLS]', '[UNK]', '[UNK]', '[SEP]']"
      ]
     },
     "execution_count": 22,
     "metadata": {},
     "output_type": "execute_result"
    }
   ],
   "source": [
    "[bert.decode(e)  for e in bert.encode(sentence)]"
   ]
  },
  {
   "cell_type": "code",
   "execution_count": 23,
   "id": "856ce4c7-7d3d-40e0-8592-82b669b60612",
   "metadata": {},
   "outputs": [
    {
     "data": {
      "text/plain": [
       "['<s>',\n",
       " '�',\n",
       " '�',\n",
       " '�',\n",
       " '�',\n",
       " '�',\n",
       " '�',\n",
       " '�',\n",
       " '�',\n",
       " '�',\n",
       " '�',\n",
       " '�',\n",
       " '�',\n",
       " '�',\n",
       " '�',\n",
       " '�',\n",
       " '�',\n",
       " '�',\n",
       " '�',\n",
       " '�',\n",
       " '�',\n",
       " '�',\n",
       " '�',\n",
       " '�',\n",
       " '�',\n",
       " '�',\n",
       " '�',\n",
       " '�',\n",
       " '�',\n",
       " '�',\n",
       " '�',\n",
       " '�',\n",
       " '�',\n",
       " '�',\n",
       " '�',\n",
       " '�',\n",
       " '�',\n",
       " '�',\n",
       " '�',\n",
       " ' ',\n",
       " '�',\n",
       " '�',\n",
       " '�',\n",
       " '�',\n",
       " '�',\n",
       " '�',\n",
       " '�',\n",
       " '�',\n",
       " '�',\n",
       " '�',\n",
       " '�',\n",
       " '�',\n",
       " '�',\n",
       " '�',\n",
       " '�',\n",
       " '�',\n",
       " '�',\n",
       " '�',\n",
       " '�',\n",
       " '�',\n",
       " '�',\n",
       " '�',\n",
       " '�',\n",
       " '�',\n",
       " '�',\n",
       " '�',\n",
       " '�',\n",
       " '�',\n",
       " '�',\n",
       " '�',\n",
       " '�',\n",
       " '�',\n",
       " '�',\n",
       " '�',\n",
       " '�',\n",
       " '�',\n",
       " '�',\n",
       " '�',\n",
       " '�',\n",
       " '�',\n",
       " '�',\n",
       " '�',\n",
       " '�',\n",
       " '�',\n",
       " '�',\n",
       " '�',\n",
       " '�',\n",
       " '�',\n",
       " '�',\n",
       " '�',\n",
       " '</s>']"
      ]
     },
     "execution_count": 23,
     "metadata": {},
     "output_type": "execute_result"
    }
   ],
   "source": [
    "[roberta.decode(e)  for e in roberta.encode(sentence)]"
   ]
  },
  {
   "cell_type": "code",
   "execution_count": 24,
   "id": "213b4770-d6cd-4d8a-8e58-4bf3783cacd1",
   "metadata": {},
   "outputs": [
    {
     "data": {
      "text/plain": [
       "['', '<unk>', '', '<unk>', '</s>']"
      ]
     },
     "execution_count": 24,
     "metadata": {},
     "output_type": "execute_result"
    }
   ],
   "source": [
    "[t5.decode(e)  for e in t5.encode(sentence)]"
   ]
  },
  {
   "cell_type": "code",
   "execution_count": 29,
   "id": "af36b86f-8efc-4746-b840-94ccbdb8dc76",
   "metadata": {},
   "outputs": [
    {
     "data": {
      "application/vnd.jupyter.widget-view+json": {
       "model_id": "62e2594739eb4e53b280a81b21bbb35f",
       "version_major": 2,
       "version_minor": 0
      },
      "text/plain": [
       "tokenizer_config.json:   0%|          | 0.00/551 [00:00<?, ?B/s]"
      ]
     },
     "metadata": {},
     "output_type": "display_data"
    },
    {
     "data": {
      "application/vnd.jupyter.widget-view+json": {
       "model_id": "e0b33233b0ca48ffa274a258cdcc6798",
       "version_major": 2,
       "version_minor": 0
      },
      "text/plain": [
       "vocab.txt:   0%|          | 0.00/996k [00:00<?, ?B/s]"
      ]
     },
     "metadata": {},
     "output_type": "display_data"
    },
    {
     "data": {
      "application/vnd.jupyter.widget-view+json": {
       "model_id": "19db053c6815467898c4d064bf24fa7b",
       "version_major": 2,
       "version_minor": 0
      },
      "text/plain": [
       "tokenizer.json:   0%|          | 0.00/1.96M [00:00<?, ?B/s]"
      ]
     },
     "metadata": {},
     "output_type": "display_data"
    },
    {
     "data": {
      "application/vnd.jupyter.widget-view+json": {
       "model_id": "c789efe6435f494cb383f2b7ab4d6426",
       "version_major": 2,
       "version_minor": 0
      },
      "text/plain": [
       "special_tokens_map.json:   0%|          | 0.00/112 [00:00<?, ?B/s]"
      ]
     },
     "metadata": {},
     "output_type": "display_data"
    }
   ],
   "source": [
    "tbert  = AutoTokenizer.from_pretrained('wicharnkeisei/thai-bert-multi-cased-finetuned-xquadv1-finetuned-squad')"
   ]
  },
  {
   "cell_type": "code",
   "execution_count": 30,
   "id": "1ce8512c-b13c-48fd-9474-b73f1ab60bef",
   "metadata": {},
   "outputs": [
    {
     "data": {
      "text/plain": [
       "['[CLS]',\n",
       " 'ช',\n",
       " '##ื่อ',\n",
       " '##ข',\n",
       " '##อง',\n",
       " '##ฉ',\n",
       " '##ัน',\n",
       " '##คือ',\n",
       " '##ศ',\n",
       " '##ร',\n",
       " '##าว',\n",
       " '##ุ',\n",
       " '##ธ',\n",
       " 'และ',\n",
       " '##ฉ',\n",
       " '##ัน',\n",
       " '##อ',\n",
       " '##า',\n",
       " '##ศ',\n",
       " '##ัย',\n",
       " '##อย',\n",
       " '##ู่',\n",
       " '##ใน',\n",
       " '##ป',\n",
       " '##ท',\n",
       " '##ุ',\n",
       " '##ม',\n",
       " '##ธ',\n",
       " '##านี',\n",
       " '[SEP]']"
      ]
     },
     "execution_count": 30,
     "metadata": {},
     "output_type": "execute_result"
    }
   ],
   "source": [
    "[tbert.decode(e)  for e in tbert.encode(sentence)]"
   ]
  },
  {
   "cell_type": "code",
   "execution_count": null,
   "id": "6ea07dbe-4937-43ba-a6a8-1014099ff125",
   "metadata": {},
   "outputs": [],
   "source": []
  }
 ],
 "metadata": {
  "kernelspec": {
   "display_name": "Python 3 (ipykernel)",
   "language": "python",
   "name": "python3"
  },
  "language_info": {
   "codemirror_mode": {
    "name": "ipython",
    "version": 3
   },
   "file_extension": ".py",
   "mimetype": "text/x-python",
   "name": "python",
   "nbconvert_exporter": "python",
   "pygments_lexer": "ipython3",
   "version": "3.10.12"
  }
 },
 "nbformat": 4,
 "nbformat_minor": 5
}
